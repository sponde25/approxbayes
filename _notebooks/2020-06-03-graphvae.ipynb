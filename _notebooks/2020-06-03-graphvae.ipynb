{
 "cells": [
  {
   "source": [
    "# GraphVAE for molecular generation\n",
    "> We introduce a simple baseline to generate small graphs using [GraphVAE](https://arxiv.org/abs/1802.03480). The encoder uses graph convolution layers to obtain a vector representation of the graph and the output graph is represented as one hot vectors for atom labels and upper triangle adjacency matrix.\n",
    "\n",
    "- toc:true- branch: master\n",
    "- badges: false\n",
    "- comments: true\n",
    "- author: Anirudh Jain\n",
    "- categories: [graph generation, vae, pytorch, pygeometric]"
   ],
   "cell_type": "markdown",
   "metadata": {}
  },
  {
   "source": [
    "# Introduction"
   ],
   "cell_type": "markdown",
   "metadata": {}
  },
  {
   "source": [
    "# Model"
   ],
   "cell_type": "markdown",
   "metadata": {}
  },
  {
   "source": [
    "# Results"
   ],
   "cell_type": "markdown",
   "metadata": {}
  },
  {
   "source": [
    "# Conclusion"
   ],
   "cell_type": "markdown",
   "metadata": {}
  }
 ],
 "metadata": {
  "language_info": {
   "codemirror_mode": {
    "name": "ipython",
    "version": 3
   },
   "file_extension": ".py",
   "mimetype": "text/x-python",
   "name": "python",
   "nbconvert_exporter": "python",
   "pygments_lexer": "ipython3",
   "version": "3.6.10-final"
  },
  "orig_nbformat": 2,
  "kernelspec": {
   "name": "python3",
   "display_name": "Python 3"
  }
 },
 "nbformat": 4,
 "nbformat_minor": 2
}
{
 "cells": [
  {
   "source": [
    "# Molecular graph generation with PyTorch and PyGeometric\n",
    "> We use [GraphVAE](https://arxiv.org/abs/1802.03480) for molecular generation with one shot generation of a probabilistic graph with predefined maximum size. \n",
    "\n",
    "- toc: true \n",
    "- badges: true\n",
    "- comments: false\n",
    "- author: Anirudh Jain\n",
    "- categories: [graph generation, pytorch, pygeometric, tutorial]"
   ],
   "cell_type": "markdown",
   "metadata": {}
  },
  {
   "source": [
    "# Requirements\n",
    "\n",
    "The following packages need to be installed:\n",
    "- rdkit\n",
    "- pytorch\n",
    "- torch_geometric\n",
    "- networkx"
   ],
   "cell_type": "markdown",
   "metadata": {}
  },
  {
   "cell_type": "code",
   "execution_count": 1,
   "metadata": {},
   "outputs": [],
   "source": [
    "#collapse-hide\n",
    "\n",
    "#Initial imports\n",
    "\n",
    "import numpy as np\n",
    "import torch\n",
    "import matplotlib.pyplot as plt\n",
    "from glob import glob\n",
    "import tqdm"
   ]
  },
  {
   "source": [
    "# Introduction\n",
    "\n",
    "We represent a molecule as graph $G = (\\mathcal{X, A})$ using PyGeometric framework. Each molecule is represented by a feature matrix $\\mathcal{X}$ and adjacency matrix $\\mathcal{A}$. We use QM9 dataset from [MoleculeNet:A Benchmark for Molecular Machine Learning](https://arxiv.org/abs/1703.00564) implemented in `torch_geometric.datasets.QM9`. PyGeometric relies on rdkit to process the SMILES string and convert them into graphs.\n",
    "\n",
    "We modify the data processing script in two ways:\n",
    "- We strip hydrogen atoms from the molecules to keep only the heavy atoms\n",
    "- We kekulize the molecules to convert aromatic rings to Kekule form\n",
    "The modified script can be found [here](https://gist.github.com/sponde25/7dfa5492c21c007cf1e60a02dced1334)\n",
    "\n",
    "After processing the dataset, we have a set of molecules with 4 heavy atoms (C, N, O, F) and 3 bond types (SINGLE, DOUBLE and TRIPLE) with maximum graph size of 9. \n",
    "\n",
    "The decoder outputs the graph as one-hot encoded vectors for atoms `[9 x 5]` and bonds `[9 x 4]`. The label 0 represents empty atom or edge.  "
   ],
   "cell_type": "markdown",
   "metadata": {}
  },
  {
   "cell_type": "code",
   "execution_count": 4,
   "metadata": {},
   "outputs": [],
   "source": [
    "#Imports for data pre-processing\n",
    "\n",
    "import torch_geometric\n",
    "from qm9_modified import QM9\n",
    "from torch_geometric.utils.convert import to_networkx\n",
    "import networkx"
   ]
  },
  {
   "cell_type": "code",
   "execution_count": 8,
   "metadata": {},
   "outputs": [
    {
     "output_type": "stream",
     "name": "stdout",
     "text": "MAX ATOMS: 9\nMAX EDGE: 72\n"
    }
   ],
   "source": [
    "# Setting up variables for the dataset\n",
    "\n",
    "MAX_ATOM = 5 \n",
    "MAX_EDGE = 4 \n",
    "path = '/scratch/project_2002655/datasets/qm9_noH' # Change the path for your local directory structure\n",
    "dataset = QM9(path)\n",
    "\n",
    "# Store the max. graph size\n",
    "MAX_N = -1\n",
    "for data in dataset:\n",
    "    if MAX_N < data.x.shape[0]: MAX_N = data.x.shape[0]\n",
    "MAX_E = int(MAX_N * (MAX_N - 1))\n",
    "print('MAX ATOMS: {}'.format(MAX_N))    # Maximum number of atoms in a graph in the dataset\n",
    "print('MAX EDGE: {}'.format(MAX_E))     # Corresponding size of upper triangle adjacency matrix "
   ]
  },
  {
   "source": [
    "`torch_geometric` stores the graph as `torch_geometric.data.Data` and we generate the one-hot representation of the graph $G$ as described above. For each graph $G$, we create a vector $\\mathcal{X}$ as one-hot encoded for atom of dimension `[MAX_N x MAX_ATOM]` and vector bond of dimension `[MAX_E x MAX_EDGE]`.\n",
    "\n",
    "![](../images/data_representation.png \"A visualization of the graph, atom and edge representations\")"
   ],
   "cell_type": "markdown",
   "metadata": {}
  },
  {
   "cell_type": "code",
   "execution_count": 11,
   "metadata": {},
   "outputs": [
    {
     "output_type": "stream",
     "name": "stdout",
     "text": "tensor([[ 0,  0,  1,  2,  3,  4,  5,  6,  7],\n        [ 0,  0,  8,  9, 10, 11, 12, 13, 14],\n        [ 0,  0,  0, 15, 16, 17, 18, 19, 20],\n        [ 0,  0,  0,  0, 21, 22, 23, 24, 25],\n        [ 0,  0,  0,  0,  0, 26, 27, 28, 29],\n        [ 0,  0,  0,  0,  0,  0, 30, 31, 32],\n        [ 0,  0,  0,  0,  0,  0,  0, 33, 34],\n        [ 0,  0,  0,  0,  0,  0,  0,  0, 35],\n        [ 0,  0,  0,  0,  0,  0,  0,  0,  0]])\n"
    }
   ],
   "source": [
    "# We create a matrix to map the index of the edge vector $\\mathcal{A}$ to the upper triangular adjacency matrix.\n",
    "\n",
    "index_array = torch.zeros([MAX_N, MAX_N], dtype=int)\n",
    "idx = 0\n",
    "for i in range(MAX_N):\n",
    "    for j in range(MAX_N):\n",
    "        if i < j:\n",
    "            index_array[i, j] = idx\n",
    "            idx+=1\n",
    "\n",
    "print(index_array)"
   ]
  },
  {
   "source": [
    "# Model"
   ],
   "cell_type": "markdown",
   "metadata": {}
  },
  {
   "source": [
    "# Results"
   ],
   "cell_type": "markdown",
   "metadata": {}
  },
  {
   "source": [
    "# Conclusion"
   ],
   "cell_type": "markdown",
   "metadata": {}
  }
 ],
 "metadata": {
  "language_info": {
   "codemirror_mode": {
    "name": "ipython",
    "version": 3
   },
   "file_extension": ".py",
   "mimetype": "text/x-python",
   "name": "python",
   "nbconvert_exporter": "python",
   "pygments_lexer": "ipython3",
   "version": "3.6.10-final"
  },
  "orig_nbformat": 2,
  "kernelspec": {
   "name": "python3",
   "display_name": "Python 3"
  }
 },
 "nbformat": 4,
 "nbformat_minor": 2
}
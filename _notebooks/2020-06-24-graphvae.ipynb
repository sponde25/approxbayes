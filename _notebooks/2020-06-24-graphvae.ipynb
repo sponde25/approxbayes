{
 "cells": [
  {
   "source": [
    "# Molecular graph generation with PyTorch and PyGeometric\n",
    "> We use [GraphVAE](https://arxiv.org/abs/1802.03480) for molecular generation with one shot generation of a probabilistic graph with predefined maximum size. \n",
    "\n",
    "- toc: true \n",
    "- badges: true\n",
    "- comments: false\n",
    "- author: Anirudh Jain\n",
    "- categories: [graph generation, pytorch, pygeometric, tutorial]"
   ],
   "cell_type": "markdown",
   "metadata": {}
  },
  {
   "source": [
    "# Requirements\n",
    "\n",
    "The following packages need to be installed:\n",
    "- rdkit\n",
    "- pytorch\n",
    "- torch_geometric\n",
    "- networkx"
   ],
   "cell_type": "markdown",
   "metadata": {}
  },
  {
   "cell_type": "code",
   "execution_count": 10,
   "metadata": {},
   "outputs": [],
   "source": [
    "#collapse-hide\n",
    "\n",
    "#Initial imports\n",
    "\n",
    "import numpy as np\n",
    "import torch\n",
    "import matplotlib.pyplot as plt\n",
    "from glob import glob\n",
    "import tqdm\n",
    "from rdkit.Chem import AllChem\n",
    "from rdkit.Chem import Draw\n",
    "from rdkit.Chem.Draw import IPythonConsole"
   ]
  },
  {
   "source": [
    "# Introduction\n",
    "\n",
    "We represent a molecule as graph $G = (\\mathcal{X, A})$ using PyGeometric framework. Each molecule is represented by a feature matrix $\\mathcal{X}$ and adjacency matrix $\\mathcal{A}$. We use QM9 dataset from [MoleculeNet:A Benchmark for Molecular Machine Learning](https://arxiv.org/abs/1703.00564) implemented in `torch_geometric.datasets.QM9`. PyGeometric relies on rdkit to process the SMILES string and convert them into graphs.\n",
    "\n",
    "We modify the data processing script in two ways:\n",
    "- We strip hydrogen atoms from the molecules to keep only the heavy atoms\n",
    "- We kekulize the molecules to convert aromatic rings to Kekule form\n",
    "The modified script can be found [here](https://gist.github.com/sponde25/7dfa5492c21c007cf1e60a02dced1334)\n",
    "\n",
    "After processing the dataset, we have a set of molecules with 4 heavy atoms (C, N, O, F) and 3 bond types (SINGLE, DOUBLE and TRIPLE) with maximum graph size of 9. \n",
    "\n",
    "The decoder outputs the graph as one-hot encoded vectors for atoms `[9 x 5]` and bonds `[9 x 4]`. The label 0 represents empty atom or edge.  "
   ],
   "cell_type": "markdown",
   "metadata": {}
  },
  {
   "cell_type": "code",
   "execution_count": 2,
   "metadata": {},
   "outputs": [],
   "source": [
    "#Imports for data pre-processing\n",
    "\n",
    "import torch_geometric\n",
    "from qm9_modified import QM9\n",
    "from torch_geometric.utils.convert import to_networkx\n",
    "import networkx"
   ]
  },
  {
   "cell_type": "code",
   "execution_count": 3,
   "metadata": {},
   "outputs": [
    {
     "output_type": "stream",
     "name": "stdout",
     "text": "MAX ATOMS: 9\nMAX EDGE: 72\n"
    }
   ],
   "source": [
    "# Setting up variables for the dataset\n",
    "\n",
    "MAX_ATOM = 5 \n",
    "MAX_EDGE = 4 \n",
    "path = '/scratch/project_2002655/datasets/qm9_noH' # Change the path for your local directory structure\n",
    "dataset = QM9(path)\n",
    "\n",
    "# Store the max. graph size\n",
    "MAX_N = -1\n",
    "for data in dataset:\n",
    "    if MAX_N < data.x.shape[0]: MAX_N = data.x.shape[0]\n",
    "MAX_E = int(MAX_N * (MAX_N - 1))\n",
    "print('MAX ATOMS: {}'.format(MAX_N))    # Maximum number of atoms in a graph in the dataset\n",
    "print('MAX EDGE: {}'.format(MAX_E))     # Corresponding size of upper triangle adjacency matrix "
   ]
  },
  {
   "source": [
    "`torch_geometric` stores the graph as `torch_geometric.data.Data` and we generate the one-hot representation of the graph $G$ as described above. For each graph $G$, we create a vector $\\mathcal{X}$ as one-hot encoded for atom of dimension `[MAX_N x MAX_ATOM]` and vector bond of dimension `[MAX_E x MAX_EDGE]`.\n",
    "\n",
    "![](../images/data_representation.png \"A visualization of the graph, atom and edge representations\")"
   ],
   "cell_type": "markdown",
   "metadata": {}
  },
  {
   "cell_type": "code",
   "execution_count": 4,
   "metadata": {},
   "outputs": [
    {
     "output_type": "stream",
     "name": "stdout",
     "text": "tensor([[ 0,  0,  1,  2,  3,  4,  5,  6,  7],\n        [ 0,  0,  8,  9, 10, 11, 12, 13, 14],\n        [ 0,  0,  0, 15, 16, 17, 18, 19, 20],\n        [ 0,  0,  0,  0, 21, 22, 23, 24, 25],\n        [ 0,  0,  0,  0,  0, 26, 27, 28, 29],\n        [ 0,  0,  0,  0,  0,  0, 30, 31, 32],\n        [ 0,  0,  0,  0,  0,  0,  0, 33, 34],\n        [ 0,  0,  0,  0,  0,  0,  0,  0, 35],\n        [ 0,  0,  0,  0,  0,  0,  0,  0,  0]])\n"
    }
   ],
   "source": [
    "# We create a matrix to map the index of the edge vector $\\mathcal{A}$ to the upper triangular adjacency matrix.\n",
    "\n",
    "index_array = torch.zeros([MAX_N, MAX_N], dtype=int)\n",
    "idx = 0\n",
    "for i in range(MAX_N):\n",
    "    for j in range(MAX_N):\n",
    "        if i < j:\n",
    "            index_array[i, j] = idx\n",
    "            idx+=1\n",
    "\n",
    "print(index_array)"
   ]
  },
  {
   "source": [
    "We process the `torch_geometric.dataset` to generate matrices $\\mathcal{X}$ and $\\mathcal{A}$ which act as the ground truth for our decoder. We will also setup utility functions to convert between the vector representation $(\\mathcal{X}, \\mathcal{A})$ and `torch_geometric.data` representation $\\mathcal{G}$. We use the following key for atoms and bonds:\n",
    "```\n",
    "    C: 1    SINGLE: 1\n",
    "    N: 2    DOUBLE: 2\n",
    "    O: 3    TRIPLE: 3\n",
    "    F: 4\n",
    "```\n",
    "`0` is the placeholder label for empty entry."
   ],
   "cell_type": "markdown",
   "metadata": {}
  },
  {
   "cell_type": "code",
   "execution_count": 7,
   "metadata": {},
   "outputs": [],
   "source": [
    "# Initialize the labels with -1\n",
    "edge_labels = torch.ones(len(dataset), MAX_E) * -1\n",
    "atom_labels = torch.ones(len(dataset), MAX_N) * -1\n",
    "idx = 0\n",
    "for data in dataset:\n",
    "    edge_attr = data.edge_attr      # One hot encoded bond labels\n",
    "    edge_index = data.edge_index    # Bond indices as one hot adjacency list\n",
    "    upper_index = edge_index[0] < edge_index[1] # Bond indices as upper triangular adjacency matrix\n",
    "    _, edge_label = torch.max(edge_attr, dim=-1)# Bond labels from one hot vectors\n",
    "    x = data.x[:, 1:5]              # One hot encoded atom labels\n",
    "    _, atom_label = torch.max(x, dim=-1)        # Atom labels from one hot vectors\n",
    "    # Expand the label vectors to size [MAX_N x MAX_ATOM] and [MAX_E x MAX_EDGE]\n",
    "    atom_labels[idx][:len(atom_label)] = atom_label\n",
    "    a0 = edge_index[0,upper_index]\n",
    "    a1 = edge_index[1,upper_index]\n",
    "    up_idx = index_array[a0, a1]\n",
    "    edge_labels[idx][up_idx] = edge_label[upper_index].float()\n",
    "    idx += 1\n",
    "\n",
    "atom_labels += 1\n",
    "edge_labels += 1"
   ]
  },
  {
   "source": [
    "Now that we have the dataset represented as $(\\mathcal{X}, \\mathcal{A})$ let's plot some graphs to visually check if the molecules are as we expected. We use `rdkit` to plot the molecules which does a lot of having lifting for us. The function `graphToMol` takes in the vectors $(\\mathcal{X}, \\mathcal{A})$ and returns an object of type `rdkit.Mol`. We can also obtain visualizations for the graphs $\\mathcal{G}$ by using `torch_geometric.utils.convert.to_networkx` and then ploting the netowrkx graph. But `rdkit` plots the molecules in a canonical orientation and is built to minimize intramolecular clashes, i.e. to maximize the clarity of the drawing."
   ],
   "cell_type": "markdown",
   "metadata": {}
  },
  {
   "cell_type": "code",
   "execution_count": 8,
   "metadata": {},
   "outputs": [],
   "source": [
    "#collapse-hide\n",
    "\n",
    "def get_index(index, index_array):\n",
    "    for i in range(9):\n",
    "        for j in range(9):\n",
    "            if i < j:\n",
    "                if(index_array[i, j] == index):\n",
    "                    return [i, j]\n",
    "\n",
    "def graphToMol(atom, edge):\n",
    "\n",
    "    possible_atoms = {\n",
    "        0: 'H',\n",
    "        1: 'C',\n",
    "        2: 'N',\n",
    "        3: 'O',\n",
    "        4: 'F'\n",
    "    }\n",
    "    possible_edges = {\n",
    "        1: Chem.rdchem.BondType.SINGLE, \n",
    "        2: Chem.rdchem.BondType.DOUBLE, \n",
    "        3: Chem.rdchem.BondType.TRIPLE\n",
    "    }\n",
    "    max_n = 9\n",
    "    \n",
    "    mol = Chem.RWMol()\n",
    "    rem_idxs = []\n",
    "    for a in atom:    \n",
    "        atom_symbol = possible_atoms[a.item()]\n",
    "        mol.AddAtom(Chem.Atom(atom_symbol))\n",
    "    for a in mol.GetAtoms():\n",
    "        if a.GetAtomicNum() == 1:\n",
    "            rem_idxs.append(a.GetIdx())\n",
    "    for i, e in enumerate(edge):\n",
    "        e = e.item()\n",
    "        if e != 0:\n",
    "            a0, a1 = get_index(i, index_array)\n",
    "            if a0 in rem_idxs or a1 in rem_idxs:\n",
    "                return None\n",
    "            bond_type = possible_edges[e]\n",
    "            mol.AddBond(a0, a1, order=bond_type)\n",
    "    rem_idxs.sort(reverse=True)\n",
    "    for i in rem_idxs:\n",
    "        mol.RemoveAtom(i)\n",
    "    return mol"
   ]
  },
  {
   "cell_type": "code",
   "execution_count": 9,
   "metadata": {},
   "outputs": [
    {
     "output_type": "stream",
     "name": "stdout",
     "text": "35336\n92593\n113203\n101499\n47505\n"
    }
   ],
   "source": [
    "# We pick 5 random molecules to plot\n",
    "mols = []\n",
    "for i in np.random.randint(0, len(atom_labels), size=5):\n",
    "    mols.append(graphToMol(atom_labels[i], edge_labels[i]))\n",
    "    "
   ]
  },
  {
   "source": [
    "# Model"
   ],
   "cell_type": "markdown",
   "metadata": {}
  },
  {
   "source": [
    "# Results"
   ],
   "cell_type": "markdown",
   "metadata": {}
  },
  {
   "source": [
    "# Conclusion"
   ],
   "cell_type": "markdown",
   "metadata": {}
  }
 ],
 "metadata": {
  "language_info": {
   "codemirror_mode": {
    "name": "ipython",
    "version": 3
   },
   "file_extension": ".py",
   "mimetype": "text/x-python",
   "name": "python",
   "nbconvert_exporter": "python",
   "pygments_lexer": "ipython3",
   "version": "3.6.10-final"
  },
  "orig_nbformat": 2,
  "kernelspec": {
   "name": "python3",
   "display_name": "Python 3"
  }
 },
 "nbformat": 4,
 "nbformat_minor": 2
}
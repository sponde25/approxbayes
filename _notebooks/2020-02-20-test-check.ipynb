{
 "cells": [
  {
   "source": [
    "# GraphVAE for molecular generation\n",
    "> We introduce a simple baseline to generate small graphs using GraphVAE introduced in https://arxiv.org/abs/1802.03480. The encoder uses graph convolution layers to obtain a vector representation of the graph and the output graph is represented as one hot vectors for atom labels and upper triangle adjacency matrix.\n",
    "\n",
    "- toc:true- branch: master\n",
    "- badges: true\n",
    "- comments: true\n",
    "- author: Anirudh Jain\n",
    "- categories: [graph generation, vae, pytorch, pygeometric]"
   ],
   "cell_type": "markdown",
   "metadata": {}
  },
  {
   "cell_type": "code",
   "execution_count": null,
   "metadata": {},
   "outputs": [],
   "source": []
  }
 ],
 "metadata": {
  "language_info": {
   "codemirror_mode": {
    "name": "ipython",
    "version": 3
   },
   "file_extension": ".py",
   "mimetype": "text/x-python",
   "name": "python",
   "nbconvert_exporter": "python",
   "pygments_lexer": "ipython3",
   "version": "3.6.10-final"
  },
  "orig_nbformat": 2,
  "kernelspec": {
   "name": "python3",
   "display_name": "Python 3"
  }
 },
 "nbformat": 4,
 "nbformat_minor": 2
}